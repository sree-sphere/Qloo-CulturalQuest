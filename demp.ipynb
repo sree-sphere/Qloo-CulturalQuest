{
 "cells": [
  {
   "cell_type": "code",
   "execution_count": 2,
   "id": "1d5d7c89",
   "metadata": {},
   "outputs": [
    {
     "name": "stdout",
     "output_type": "stream",
     "text": [
      "qloo/\n",
      "├── diversification_engine.py\n",
      "├── diversified_results.json\n",
      "├── environment.yml\n",
      "├── eslint.config.mjs\n",
      "├── next-env.d.ts\n",
      "├── next.config.ts\n",
      "├── package-lock.json\n",
      "├── package.json\n",
      "├── postcss.config.mjs\n",
      "├── public/\n",
      "│   ├── file.svg\n",
      "│   ├── globe.svg\n",
      "│   ├── next.svg\n",
      "│   ├── qloo_assets/\n",
      "│   │   ├── images/\n",
      "│   │   │   ├── image.webp\n",
      "│   │   │   ├── image_expanded.jpg\n",
      "│   │   │   ├── prize.png\n",
      "│   │   │   └── reading.png\n",
      "│   │   └── videos/\n",
      "│   │       ├── vid1.mp4\n",
      "│   │       └── vid2.mp4\n",
      "│   ├── vercel.svg\n",
      "│   └── window.svg\n",
      "├── README.md\n",
      "├── requirements.txt\n",
      "├── results_diversified.json\n",
      "├── saved_models/\n",
      "│   └── all-MiniLM-L6-v2/\n",
      "│       ├── 1_Pooling/\n",
      "│       │   └── config.json\n",
      "│       ├── 2_Normalize/\n",
      "│       ├── config.json\n",
      "│       ├── config_sentence_transformers.json\n",
      "│       ├── model.safetensors\n",
      "│       ├── modules.json\n",
      "│       ├── README.md\n",
      "│       ├── sentence_bert_config.json\n",
      "│       ├── special_tokens_map.json\n",
      "│       ├── tokenizer.json\n",
      "│       ├── tokenizer_config.json\n",
      "│       └── vocab.txt\n",
      "├── src/\n",
      "│   ├── app/\n",
      "│   │   ├── api/\n",
      "│   │   │   ├── chat/\n",
      "│   │   │   │   └── route.ts\n",
      "│   │   │   ├── diversify/\n",
      "│   │   │   │   └── route.ts\n",
      "│   │   │   └── tts/\n",
      "│   │   │       └── route.ts\n",
      "│   │   ├── favicon.ico\n",
      "│   │   ├── globals.css\n",
      "│   │   ├── layout.tsx\n",
      "│   │   └── page.tsx\n",
      "│   ├── components/\n",
      "│   │   └── cultural_gamification_ui.tsx\n",
      "│   └── lib/\n",
      "│       └── qloo_gamification_sdk.ts\n",
      "└── tsconfig.json\n"
     ]
    }
   ],
   "source": [
    "from directory_tree import DisplayTree\n",
    "\n",
    "DisplayTree(ignoreList=[\".next\", \"node_modules\", \"demp.ipynb\", \"api_response.txt\", \"temp\"])"
   ]
  },
  {
   "cell_type": "code",
   "execution_count": null,
   "id": "c216ff0d",
   "metadata": {},
   "outputs": [],
   "source": [
    "!pip install tf-keras"
   ]
  },
  {
   "cell_type": "code",
   "execution_count": null,
   "id": "ccb37f83",
   "metadata": {},
   "outputs": [],
   "source": [
    "from sentence_transformers import SentenceTransformer\n",
    "model_name = \"all-MiniLM-L6-v2\"\n",
    "model = SentenceTransformer(model_name)\n",
    "model.save(\"./saved_models/all-MiniLM-L6-v2\")"
   ]
  },
  {
   "cell_type": "code",
   "execution_count": null,
   "id": "65399c00",
   "metadata": {},
   "outputs": [],
   "source": []
  }
 ],
 "metadata": {
  "kernelspec": {
   "display_name": "finetune",
   "language": "python",
   "name": "python3"
  },
  "language_info": {
   "codemirror_mode": {
    "name": "ipython",
    "version": 3
   },
   "file_extension": ".py",
   "mimetype": "text/x-python",
   "name": "python",
   "nbconvert_exporter": "python",
   "pygments_lexer": "ipython3",
   "version": "3.12.7"
  }
 },
 "nbformat": 4,
 "nbformat_minor": 5
}
