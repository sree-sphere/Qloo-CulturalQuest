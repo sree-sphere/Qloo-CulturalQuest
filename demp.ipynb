{
 "cells": [
  {
   "cell_type": "code",
   "execution_count": 4,
   "id": "1d5d7c89",
   "metadata": {},
   "outputs": [
    {
     "name": "stdout",
     "output_type": "stream",
     "text": [
      "qloo-2/\n",
      "├── eslint.config.mjs\n",
      "├── next-env.d.ts\n",
      "├── next.config.ts\n",
      "├── package-lock.json\n",
      "├── package.json\n",
      "├── postcss.config.mjs\n",
      "├── public/\n",
      "│   ├── file.svg\n",
      "│   ├── globe.svg\n",
      "│   ├── next.svg\n",
      "│   ├── qloo_assets/\n",
      "│   │   ├── images/\n",
      "│   │   │   ├── image.webp\n",
      "│   │   │   └── image_expanded.jpg\n",
      "│   │   └── videos/\n",
      "│   │       ├── vid1.mp4\n",
      "│   │       └── vid2.mp4\n",
      "│   ├── vercel.svg\n",
      "│   └── window.svg\n",
      "├── README.md\n",
      "├── src/\n",
      "│   ├── app/\n",
      "│   │   ├── api/\n",
      "│   │   │   └── chat/\n",
      "│   │   │       └── route.ts\n",
      "│   │   ├── favicon.ico\n",
      "│   │   ├── globals.css\n",
      "│   │   ├── layout.tsx\n",
      "│   │   └── page.tsx\n",
      "│   ├── components/\n",
      "│   │   └── cultural_gamification_ui.tsx\n",
      "│   └── lib/\n",
      "│       └── qloo_gamification_sdk.ts\n",
      "└── tsconfig.json\n"
     ]
    }
   ],
   "source": [
    "from directory_tree import DisplayTree\n",
    "\n",
    "DisplayTree(ignoreList=[\".next\", \"node_modules\", \"demp.ipynb\", \"api_response.txt\"])"
   ]
  },
  {
   "cell_type": "code",
   "execution_count": null,
   "id": "35351d6b",
   "metadata": {},
   "outputs": [],
   "source": []
  }
 ],
 "metadata": {
  "kernelspec": {
   "display_name": "finetune",
   "language": "python",
   "name": "python3"
  },
  "language_info": {
   "codemirror_mode": {
    "name": "ipython",
    "version": 3
   },
   "file_extension": ".py",
   "mimetype": "text/x-python",
   "name": "python",
   "nbconvert_exporter": "python",
   "pygments_lexer": "ipython3",
   "version": "3.12.7"
  }
 },
 "nbformat": 4,
 "nbformat_minor": 5
}
